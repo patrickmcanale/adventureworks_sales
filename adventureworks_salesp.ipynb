{
 "cells": [
  {
   "cell_type": "markdown",
   "id": "ee21068d",
   "metadata": {},
   "source": [
    "AdventureWorks Database"
   ]
  },
  {
   "cell_type": "code",
   "execution_count": 7,
   "id": "49a8d29a",
   "metadata": {},
   "outputs": [],
   "source": [
    "\n",
    "import pyodbc\n",
    "import pandas as pd\n",
    "import numpy as np\n",
    "import scipy.stats as stats\n",
    "import matplotlib.pyplot as plt\n",
    "import seaborn as sns\n",
    "\n",
    "\n",
    "# Server connection to MS SQL:\n",
    "import pyodbc\n",
    "connection = pyodbc.connect('DRIVER={SQL Server Native Client 11.0};SERVER=DESKTOP-PG968NO;DATABASE=AdventureWorks2016;UID=sa;PWD=Naples01')\n",
    "cursor=connection.cursor()"
   ]
  },
  {
   "cell_type": "code",
   "execution_count": 6,
   "id": "399b555a",
   "metadata": {},
   "outputs": [
    {
     "data": {
      "text/html": [
       "<div>\n",
       "<style scoped>\n",
       "    .dataframe tbody tr th:only-of-type {\n",
       "        vertical-align: middle;\n",
       "    }\n",
       "\n",
       "    .dataframe tbody tr th {\n",
       "        vertical-align: top;\n",
       "    }\n",
       "\n",
       "    .dataframe thead th {\n",
       "        text-align: right;\n",
       "    }\n",
       "</style>\n",
       "<table border=\"1\" class=\"dataframe\">\n",
       "  <thead>\n",
       "    <tr style=\"text-align: right;\">\n",
       "      <th></th>\n",
       "      <th>BusinessEntityID</th>\n",
       "      <th>Name</th>\n",
       "      <th>AnnualSales</th>\n",
       "      <th>AnnualRevenue</th>\n",
       "      <th>BankName</th>\n",
       "      <th>BusinessType</th>\n",
       "      <th>YearOpened</th>\n",
       "      <th>Specialty</th>\n",
       "      <th>SquareFeet</th>\n",
       "      <th>Brands</th>\n",
       "      <th>Internet</th>\n",
       "      <th>NumberEmployees</th>\n",
       "    </tr>\n",
       "  </thead>\n",
       "  <tbody>\n",
       "    <tr>\n",
       "      <th>0</th>\n",
       "      <td>292</td>\n",
       "      <td>Next-Door Bike Store</td>\n",
       "      <td>800000.0</td>\n",
       "      <td>80000.0</td>\n",
       "      <td>United Security</td>\n",
       "      <td>BM</td>\n",
       "      <td>1996</td>\n",
       "      <td>Mountain</td>\n",
       "      <td>21000</td>\n",
       "      <td>2</td>\n",
       "      <td>ISDN</td>\n",
       "      <td>13</td>\n",
       "    </tr>\n",
       "    <tr>\n",
       "      <th>1</th>\n",
       "      <td>294</td>\n",
       "      <td>Professional Sales and Service</td>\n",
       "      <td>800000.0</td>\n",
       "      <td>80000.0</td>\n",
       "      <td>International Bank</td>\n",
       "      <td>BM</td>\n",
       "      <td>1991</td>\n",
       "      <td>Touring</td>\n",
       "      <td>18000</td>\n",
       "      <td>4+</td>\n",
       "      <td>T1</td>\n",
       "      <td>14</td>\n",
       "    </tr>\n",
       "    <tr>\n",
       "      <th>2</th>\n",
       "      <td>296</td>\n",
       "      <td>Riders Company</td>\n",
       "      <td>800000.0</td>\n",
       "      <td>80000.0</td>\n",
       "      <td>Primary Bank &amp; Reserve</td>\n",
       "      <td>BM</td>\n",
       "      <td>1999</td>\n",
       "      <td>Road</td>\n",
       "      <td>21000</td>\n",
       "      <td>2</td>\n",
       "      <td>DSL</td>\n",
       "      <td>15</td>\n",
       "    </tr>\n",
       "    <tr>\n",
       "      <th>3</th>\n",
       "      <td>298</td>\n",
       "      <td>The Bike Mechanics</td>\n",
       "      <td>800000.0</td>\n",
       "      <td>80000.0</td>\n",
       "      <td>International Security</td>\n",
       "      <td>BM</td>\n",
       "      <td>1994</td>\n",
       "      <td>Mountain</td>\n",
       "      <td>18000</td>\n",
       "      <td>2</td>\n",
       "      <td>DSL</td>\n",
       "      <td>16</td>\n",
       "    </tr>\n",
       "    <tr>\n",
       "      <th>4</th>\n",
       "      <td>300</td>\n",
       "      <td>Nationwide Supply</td>\n",
       "      <td>800000.0</td>\n",
       "      <td>80000.0</td>\n",
       "      <td>Guardian Bank</td>\n",
       "      <td>BM</td>\n",
       "      <td>1987</td>\n",
       "      <td>Touring</td>\n",
       "      <td>21000</td>\n",
       "      <td>4+</td>\n",
       "      <td>DSL</td>\n",
       "      <td>17</td>\n",
       "    </tr>\n",
       "  </tbody>\n",
       "</table>\n",
       "</div>"
      ],
      "text/plain": [
       "   BusinessEntityID                            Name  AnnualSales  \\\n",
       "0               292            Next-Door Bike Store     800000.0   \n",
       "1               294  Professional Sales and Service     800000.0   \n",
       "2               296                  Riders Company     800000.0   \n",
       "3               298              The Bike Mechanics     800000.0   \n",
       "4               300               Nationwide Supply     800000.0   \n",
       "\n",
       "   AnnualRevenue                BankName BusinessType  YearOpened Specialty  \\\n",
       "0        80000.0         United Security           BM        1996  Mountain   \n",
       "1        80000.0      International Bank           BM        1991   Touring   \n",
       "2        80000.0  Primary Bank & Reserve           BM        1999      Road   \n",
       "3        80000.0  International Security           BM        1994  Mountain   \n",
       "4        80000.0           Guardian Bank           BM        1987   Touring   \n",
       "\n",
       "   SquareFeet Brands Internet  NumberEmployees  \n",
       "0       21000      2     ISDN               13  \n",
       "1       18000     4+       T1               14  \n",
       "2       21000      2      DSL               15  \n",
       "3       18000      2      DSL               16  \n",
       "4       21000     4+      DSL               17  "
      ]
     },
     "execution_count": 6,
     "metadata": {},
     "output_type": "execute_result"
    }
   ],
   "source": [
    "df = pd.read_sql_query(\"\"\"\n",
    "SELECT BusinessEntityID\n",
    "      ,Name\n",
    "      ,AnnualSales\n",
    "      ,AnnualRevenue\n",
    "      ,BankName\n",
    "      ,BusinessType\n",
    "      ,YearOpened\n",
    "      ,Specialty\n",
    "      ,SquareFeet\n",
    "      ,Brands\n",
    "      ,Internet\n",
    "      ,NumberEmployees\n",
    "  FROM AdventureWorks2019.Sales.vStoreWithDemographics;\n",
    "\"\"\", connection)\n",
    "df.head()"
   ]
  },
  {
   "cell_type": "code",
   "execution_count": 11,
   "id": "ef873536",
   "metadata": {},
   "outputs": [
    {
     "data": {
      "text/html": [
       "<div>\n",
       "<style scoped>\n",
       "    .dataframe tbody tr th:only-of-type {\n",
       "        vertical-align: middle;\n",
       "    }\n",
       "\n",
       "    .dataframe tbody tr th {\n",
       "        vertical-align: top;\n",
       "    }\n",
       "\n",
       "    .dataframe thead th {\n",
       "        text-align: right;\n",
       "    }\n",
       "</style>\n",
       "<table border=\"1\" class=\"dataframe\">\n",
       "  <thead>\n",
       "    <tr style=\"text-align: right;\">\n",
       "      <th></th>\n",
       "      <th></th>\n",
       "    </tr>\n",
       "  </thead>\n",
       "  <tbody>\n",
       "    <tr>\n",
       "      <th>0</th>\n",
       "      <td>701</td>\n",
       "    </tr>\n",
       "  </tbody>\n",
       "</table>\n",
       "</div>"
      ],
      "text/plain": [
       "      \n",
       "0  701"
      ]
     },
     "execution_count": 11,
     "metadata": {},
     "output_type": "execute_result"
    }
   ],
   "source": [
    "#count the number of bike companies\n",
    "\n",
    "pd.read_sql_query(\"\"\"\n",
    "SELECT COUNT(*)\n",
    "  FROM AdventureWorks2019.Sales.vStoreWithDemographics;\n",
    "\"\"\", connection)\n"
   ]
  },
  {
   "cell_type": "code",
   "execution_count": 12,
   "id": "57358ebb",
   "metadata": {},
   "outputs": [
    {
     "data": {
      "text/html": [
       "<div>\n",
       "<style scoped>\n",
       "    .dataframe tbody tr th:only-of-type {\n",
       "        vertical-align: middle;\n",
       "    }\n",
       "\n",
       "    .dataframe tbody tr th {\n",
       "        vertical-align: top;\n",
       "    }\n",
       "\n",
       "    .dataframe thead th {\n",
       "        text-align: right;\n",
       "    }\n",
       "</style>\n",
       "<table border=\"1\" class=\"dataframe\">\n",
       "  <thead>\n",
       "    <tr style=\"text-align: right;\">\n",
       "      <th></th>\n",
       "      <th></th>\n",
       "    </tr>\n",
       "  </thead>\n",
       "  <tbody>\n",
       "    <tr>\n",
       "      <th>0</th>\n",
       "      <td>701</td>\n",
       "    </tr>\n",
       "  </tbody>\n",
       "</table>\n",
       "</div>"
      ],
      "text/plain": [
       "      \n",
       "0  701"
      ]
     },
     "execution_count": 12,
     "metadata": {},
     "output_type": "execute_result"
    }
   ],
   "source": [
    "#count the number of unique bike companies\n",
    "\n",
    "pd.read_sql_query(\"\"\"\n",
    "SELECT COUNT(DISTINCT BusinessEntityID)\n",
    "  FROM AdventureWorks2019.Sales.vStoreWithDemographics;\n",
    "\"\"\", connection)\n"
   ]
  },
  {
   "cell_type": "code",
   "execution_count": 17,
   "id": "f6c9372b",
   "metadata": {},
   "outputs": [
    {
     "data": {
      "text/html": [
       "<div>\n",
       "<style scoped>\n",
       "    .dataframe tbody tr th:only-of-type {\n",
       "        vertical-align: middle;\n",
       "    }\n",
       "\n",
       "    .dataframe tbody tr th {\n",
       "        vertical-align: top;\n",
       "    }\n",
       "\n",
       "    .dataframe thead th {\n",
       "        text-align: right;\n",
       "    }\n",
       "</style>\n",
       "<table border=\"1\" class=\"dataframe\">\n",
       "  <thead>\n",
       "    <tr style=\"text-align: right;\">\n",
       "      <th></th>\n",
       "      <th></th>\n",
       "    </tr>\n",
       "  </thead>\n",
       "  <tbody>\n",
       "    <tr>\n",
       "      <th>0</th>\n",
       "      <td>246</td>\n",
       "    </tr>\n",
       "  </tbody>\n",
       "</table>\n",
       "</div>"
      ],
      "text/plain": [
       "      \n",
       "0  246"
      ]
     },
     "execution_count": 17,
     "metadata": {},
     "output_type": "execute_result"
    }
   ],
   "source": [
    "### check for the company specialty.  Mountain bike, Road bike, and Touring bikes\n",
    "\n",
    "\n",
    "mountain = pd.read_sql_query(\"\"\"\n",
    "SELECT COUNT(Specialty)\n",
    "  FROM AdventureWorks2019.Sales.vStoreWithDemographics\n",
    "  WHERE Specialty = 'Mountain';\n",
    "\"\"\", connection)\n",
    "\n",
    "mountain.head()"
   ]
  },
  {
   "cell_type": "code",
   "execution_count": 18,
   "id": "8a6d84b6",
   "metadata": {},
   "outputs": [
    {
     "data": {
      "text/html": [
       "<div>\n",
       "<style scoped>\n",
       "    .dataframe tbody tr th:only-of-type {\n",
       "        vertical-align: middle;\n",
       "    }\n",
       "\n",
       "    .dataframe tbody tr th {\n",
       "        vertical-align: top;\n",
       "    }\n",
       "\n",
       "    .dataframe thead th {\n",
       "        text-align: right;\n",
       "    }\n",
       "</style>\n",
       "<table border=\"1\" class=\"dataframe\">\n",
       "  <thead>\n",
       "    <tr style=\"text-align: right;\">\n",
       "      <th></th>\n",
       "      <th></th>\n",
       "    </tr>\n",
       "  </thead>\n",
       "  <tbody>\n",
       "    <tr>\n",
       "      <th>0</th>\n",
       "      <td>300</td>\n",
       "    </tr>\n",
       "  </tbody>\n",
       "</table>\n",
       "</div>"
      ],
      "text/plain": [
       "      \n",
       "0  300"
      ]
     },
     "execution_count": 18,
     "metadata": {},
     "output_type": "execute_result"
    }
   ],
   "source": [
    "##count how many companies specialize road v mountain v touring\n",
    "\n",
    "\n",
    "road = pd.read_sql_query(\"\"\"\n",
    "SELECT COUNT(Specialty)\n",
    "FROM AdventureWorks2019.Sales.vStoreWithDemographics\n",
    "WHERE Specialty = 'Road';\n",
    "\"\"\", connection)\n",
    "\n",
    "road.head()"
   ]
  },
  {
   "cell_type": "code",
   "execution_count": 19,
   "id": "60a76ceb",
   "metadata": {},
   "outputs": [
    {
     "data": {
      "text/html": [
       "<div>\n",
       "<style scoped>\n",
       "    .dataframe tbody tr th:only-of-type {\n",
       "        vertical-align: middle;\n",
       "    }\n",
       "\n",
       "    .dataframe tbody tr th {\n",
       "        vertical-align: top;\n",
       "    }\n",
       "\n",
       "    .dataframe thead th {\n",
       "        text-align: right;\n",
       "    }\n",
       "</style>\n",
       "<table border=\"1\" class=\"dataframe\">\n",
       "  <thead>\n",
       "    <tr style=\"text-align: right;\">\n",
       "      <th></th>\n",
       "      <th></th>\n",
       "    </tr>\n",
       "  </thead>\n",
       "  <tbody>\n",
       "    <tr>\n",
       "      <th>0</th>\n",
       "      <td>155</td>\n",
       "    </tr>\n",
       "  </tbody>\n",
       "</table>\n",
       "</div>"
      ],
      "text/plain": [
       "      \n",
       "0  155"
      ]
     },
     "execution_count": 19,
     "metadata": {},
     "output_type": "execute_result"
    }
   ],
   "source": [
    "touring = pd.read_sql_query(\"\"\"\n",
    "SELECT COUNT(Specialty)\n",
    "FROM AdventureWorks2019.Sales.vStoreWithDemographics\n",
    "WHERE Specialty = 'Touring';\n",
    "\"\"\", connection)\n",
    "\n",
    "touring.head()"
   ]
  },
  {
   "cell_type": "code",
   "execution_count": 28,
   "id": "85d52fa5",
   "metadata": {},
   "outputs": [
    {
     "data": {
      "text/html": [
       "<div>\n",
       "<style scoped>\n",
       "    .dataframe tbody tr th:only-of-type {\n",
       "        vertical-align: middle;\n",
       "    }\n",
       "\n",
       "    .dataframe tbody tr th {\n",
       "        vertical-align: top;\n",
       "    }\n",
       "\n",
       "    .dataframe thead th {\n",
       "        text-align: right;\n",
       "    }\n",
       "</style>\n",
       "<table border=\"1\" class=\"dataframe\">\n",
       "  <thead>\n",
       "    <tr style=\"text-align: right;\">\n",
       "      <th></th>\n",
       "      <th>total_sales</th>\n",
       "      <th>total_rev</th>\n",
       "    </tr>\n",
       "  </thead>\n",
       "  <tbody>\n",
       "    <tr>\n",
       "      <th>0</th>\n",
       "      <td>405400000.0</td>\n",
       "      <td>40540000.0</td>\n",
       "    </tr>\n",
       "  </tbody>\n",
       "</table>\n",
       "</div>"
      ],
      "text/plain": [
       "   total_sales   total_rev\n",
       "0  405400000.0  40540000.0"
      ]
     },
     "execution_count": 28,
     "metadata": {},
     "output_type": "execute_result"
    }
   ],
   "source": [
    "# i found the total sales and revenue of the companies that specialize in mountain, road and touring bikes\n",
    "#road bikes were the best sellers\n",
    "\n",
    "mountain_sales = pd.read_sql_query(\"\"\"\n",
    "SELECT SUM(AnnualSales) as total_sales, \n",
    "        SUM(AnnualRevenue) as total_rev\n",
    "FROM AdventureWorks2019.Sales.vStoreWithDemographics\n",
    "WHERE Specialty = 'Mountain';\n",
    "\"\"\", connection)\n",
    "\n",
    "mountain_sales.head()"
   ]
  },
  {
   "cell_type": "code",
   "execution_count": 29,
   "id": "ea71e9f2",
   "metadata": {},
   "outputs": [
    {
     "data": {
      "text/html": [
       "<div>\n",
       "<style scoped>\n",
       "    .dataframe tbody tr th:only-of-type {\n",
       "        vertical-align: middle;\n",
       "    }\n",
       "\n",
       "    .dataframe tbody tr th {\n",
       "        vertical-align: top;\n",
       "    }\n",
       "\n",
       "    .dataframe thead th {\n",
       "        text-align: right;\n",
       "    }\n",
       "</style>\n",
       "<table border=\"1\" class=\"dataframe\">\n",
       "  <thead>\n",
       "    <tr style=\"text-align: right;\">\n",
       "      <th></th>\n",
       "      <th>total_sales</th>\n",
       "      <th>total_rev</th>\n",
       "    </tr>\n",
       "  </thead>\n",
       "  <tbody>\n",
       "    <tr>\n",
       "      <th>0</th>\n",
       "      <td>462400000.0</td>\n",
       "      <td>46240000.0</td>\n",
       "    </tr>\n",
       "  </tbody>\n",
       "</table>\n",
       "</div>"
      ],
      "text/plain": [
       "   total_sales   total_rev\n",
       "0  462400000.0  46240000.0"
      ]
     },
     "execution_count": 29,
     "metadata": {},
     "output_type": "execute_result"
    }
   ],
   "source": [
    "road_sales = pd.read_sql_query(\"\"\"\n",
    "SELECT SUM(AnnualSales) as total_sales, \n",
    "        SUM(AnnualRevenue) as total_rev\n",
    "FROM AdventureWorks2019.Sales.vStoreWithDemographics\n",
    "WHERE Specialty = 'Road';\n",
    "\"\"\", connection)\n",
    "\n",
    "road_sales.head()"
   ]
  },
  {
   "cell_type": "code",
   "execution_count": 30,
   "id": "2a59955b",
   "metadata": {},
   "outputs": [
    {
     "data": {
      "text/html": [
       "<div>\n",
       "<style scoped>\n",
       "    .dataframe tbody tr th:only-of-type {\n",
       "        vertical-align: middle;\n",
       "    }\n",
       "\n",
       "    .dataframe tbody tr th {\n",
       "        vertical-align: top;\n",
       "    }\n",
       "\n",
       "    .dataframe thead th {\n",
       "        text-align: right;\n",
       "    }\n",
       "</style>\n",
       "<table border=\"1\" class=\"dataframe\">\n",
       "  <thead>\n",
       "    <tr style=\"text-align: right;\">\n",
       "      <th></th>\n",
       "      <th>total_sales</th>\n",
       "      <th>total_rev</th>\n",
       "    </tr>\n",
       "  </thead>\n",
       "  <tbody>\n",
       "    <tr>\n",
       "      <th>0</th>\n",
       "      <td>243100000.0</td>\n",
       "      <td>24310000.0</td>\n",
       "    </tr>\n",
       "  </tbody>\n",
       "</table>\n",
       "</div>"
      ],
      "text/plain": [
       "   total_sales   total_rev\n",
       "0  243100000.0  24310000.0"
      ]
     },
     "execution_count": 30,
     "metadata": {},
     "output_type": "execute_result"
    }
   ],
   "source": [
    "touring_sales = pd.read_sql_query(\"\"\"\n",
    "SELECT SUM(AnnualSales) as total_sales, \n",
    "        SUM(AnnualRevenue) as total_rev\n",
    "FROM AdventureWorks2019.Sales.vStoreWithDemographics\n",
    "WHERE Specialty = 'Touring';\n",
    "\"\"\", connection)\n",
    "\n",
    "touring_sales.head()"
   ]
  },
  {
   "cell_type": "code",
   "execution_count": null,
   "id": "4ad1c33e",
   "metadata": {},
   "outputs": [],
   "source": []
  },
  {
   "cell_type": "code",
   "execution_count": 31,
   "id": "fb41eb40",
   "metadata": {},
   "outputs": [
    {
     "data": {
      "text/html": [
       "<div>\n",
       "<style scoped>\n",
       "    .dataframe tbody tr th:only-of-type {\n",
       "        vertical-align: middle;\n",
       "    }\n",
       "\n",
       "    .dataframe tbody tr th {\n",
       "        vertical-align: top;\n",
       "    }\n",
       "\n",
       "    .dataframe thead th {\n",
       "        text-align: right;\n",
       "    }\n",
       "</style>\n",
       "<table border=\"1\" class=\"dataframe\">\n",
       "  <thead>\n",
       "    <tr style=\"text-align: right;\">\n",
       "      <th></th>\n",
       "      <th></th>\n",
       "    </tr>\n",
       "  </thead>\n",
       "  <tbody>\n",
       "    <tr>\n",
       "      <th>0</th>\n",
       "      <td>40</td>\n",
       "    </tr>\n",
       "  </tbody>\n",
       "</table>\n",
       "</div>"
      ],
      "text/plain": [
       "     \n",
       "0  40"
      ]
     },
     "execution_count": 31,
     "metadata": {},
     "output_type": "execute_result"
    }
   ],
   "source": [
    "pd.read_sql_query(\"\"\"\n",
    "SELECT AVG(NumberEmployees)\n",
    "FROM AdventureWorks2019.Sales.vStoreWithDemographics;\n",
    "\"\"\", connection)"
   ]
  },
  {
   "cell_type": "code",
   "execution_count": 35,
   "id": "35a0fe36",
   "metadata": {},
   "outputs": [
    {
     "data": {
      "text/html": [
       "<div>\n",
       "<style scoped>\n",
       "    .dataframe tbody tr th:only-of-type {\n",
       "        vertical-align: middle;\n",
       "    }\n",
       "\n",
       "    .dataframe tbody tr th {\n",
       "        vertical-align: top;\n",
       "    }\n",
       "\n",
       "    .dataframe thead th {\n",
       "        text-align: right;\n",
       "    }\n",
       "</style>\n",
       "<table border=\"1\" class=\"dataframe\">\n",
       "  <thead>\n",
       "    <tr style=\"text-align: right;\">\n",
       "      <th></th>\n",
       "      <th>name</th>\n",
       "    </tr>\n",
       "  </thead>\n",
       "  <tbody>\n",
       "    <tr>\n",
       "      <th>0</th>\n",
       "      <td>Next-Door Bike Store</td>\n",
       "    </tr>\n",
       "    <tr>\n",
       "      <th>1</th>\n",
       "      <td>The Bike Mechanics</td>\n",
       "    </tr>\n",
       "    <tr>\n",
       "      <th>2</th>\n",
       "      <td>Area Bike Accessories</td>\n",
       "    </tr>\n",
       "    <tr>\n",
       "      <th>3</th>\n",
       "      <td>Bicycle Accessories and Kits</td>\n",
       "    </tr>\n",
       "    <tr>\n",
       "      <th>4</th>\n",
       "      <td>Valley Bicycle Specialists</td>\n",
       "    </tr>\n",
       "    <tr>\n",
       "      <th>...</th>\n",
       "      <td>...</td>\n",
       "    </tr>\n",
       "    <tr>\n",
       "      <th>236</th>\n",
       "      <td>Ultimate Bicycle Company</td>\n",
       "    </tr>\n",
       "    <tr>\n",
       "      <th>237</th>\n",
       "      <td>Solid Bike Parts</td>\n",
       "    </tr>\n",
       "    <tr>\n",
       "      <th>238</th>\n",
       "      <td>Great Bicycle Supply</td>\n",
       "    </tr>\n",
       "    <tr>\n",
       "      <th>239</th>\n",
       "      <td>World of Bikes</td>\n",
       "    </tr>\n",
       "    <tr>\n",
       "      <th>240</th>\n",
       "      <td>A Bicycle Association</td>\n",
       "    </tr>\n",
       "  </tbody>\n",
       "</table>\n",
       "<p>241 rows × 1 columns</p>\n",
       "</div>"
      ],
      "text/plain": [
       "                             name\n",
       "0            Next-Door Bike Store\n",
       "1              The Bike Mechanics\n",
       "2           Area Bike Accessories\n",
       "3    Bicycle Accessories and Kits\n",
       "4      Valley Bicycle Specialists\n",
       "..                            ...\n",
       "236      Ultimate Bicycle Company\n",
       "237              Solid Bike Parts\n",
       "238          Great Bicycle Supply\n",
       "239                World of Bikes\n",
       "240         A Bicycle Association\n",
       "\n",
       "[241 rows x 1 columns]"
      ]
     },
     "execution_count": 35,
     "metadata": {},
     "output_type": "execute_result"
    }
   ],
   "source": [
    "##does having bike or bicycle in company name increase sales\n",
    "\n",
    "pd.read_sql_query(\"\"\"\n",
    "SELECT name\n",
    "FROM AdventureWorks2019.Sales.vStoreWithDemographics\n",
    "WHERE name LIKE '%bike%' or name LIKE '%bicycle%';\n",
    "\"\"\", connection)"
   ]
  },
  {
   "cell_type": "code",
   "execution_count": 47,
   "id": "fd21b9f7",
   "metadata": {},
   "outputs": [
    {
     "data": {
      "text/html": [
       "<div>\n",
       "<style scoped>\n",
       "    .dataframe tbody tr th:only-of-type {\n",
       "        vertical-align: middle;\n",
       "    }\n",
       "\n",
       "    .dataframe tbody tr th {\n",
       "        vertical-align: top;\n",
       "    }\n",
       "\n",
       "    .dataframe thead th {\n",
       "        text-align: right;\n",
       "    }\n",
       "</style>\n",
       "<table border=\"1\" class=\"dataframe\">\n",
       "  <thead>\n",
       "    <tr style=\"text-align: right;\">\n",
       "      <th></th>\n",
       "      <th>avg_sales</th>\n",
       "      <th>avg_rev</th>\n",
       "    </tr>\n",
       "  </thead>\n",
       "  <tbody>\n",
       "    <tr>\n",
       "      <th>0</th>\n",
       "      <td>1538418.079</td>\n",
       "      <td>153841.8079</td>\n",
       "    </tr>\n",
       "  </tbody>\n",
       "</table>\n",
       "</div>"
      ],
      "text/plain": [
       "     avg_sales      avg_rev\n",
       "0  1538418.079  153841.8079"
      ]
     },
     "execution_count": 47,
     "metadata": {},
     "output_type": "execute_result"
    }
   ],
   "source": [
    "mtb = pd.read_sql_query(\"\"\"\n",
    "SELECT AVG(AnnualSales) as avg_sales, \n",
    "        AVG(AnnualRevenue) as avg_rev\n",
    "FROM AdventureWorks2019.Sales.vStoreWithDemographics\n",
    "WHERE Specialty = 'Mountain'\n",
    "and name LIKE '%bike%' or name LIKE '%cycle%';\n",
    "\"\"\", connection)\n",
    "\n",
    "mtb.head()"
   ]
  },
  {
   "cell_type": "code",
   "execution_count": 48,
   "id": "a95ecec4",
   "metadata": {},
   "outputs": [
    {
     "data": {
      "text/html": [
       "<div>\n",
       "<style scoped>\n",
       "    .dataframe tbody tr th:only-of-type {\n",
       "        vertical-align: middle;\n",
       "    }\n",
       "\n",
       "    .dataframe tbody tr th {\n",
       "        vertical-align: top;\n",
       "    }\n",
       "\n",
       "    .dataframe thead th {\n",
       "        text-align: right;\n",
       "    }\n",
       "</style>\n",
       "<table border=\"1\" class=\"dataframe\">\n",
       "  <thead>\n",
       "    <tr style=\"text-align: right;\">\n",
       "      <th></th>\n",
       "      <th>avg_sales</th>\n",
       "      <th>avg_rev</th>\n",
       "    </tr>\n",
       "  </thead>\n",
       "  <tbody>\n",
       "    <tr>\n",
       "      <th>0</th>\n",
       "      <td>1602720.0</td>\n",
       "      <td>160272.0</td>\n",
       "    </tr>\n",
       "  </tbody>\n",
       "</table>\n",
       "</div>"
      ],
      "text/plain": [
       "   avg_sales   avg_rev\n",
       "0  1602720.0  160272.0"
      ]
     },
     "execution_count": 48,
     "metadata": {},
     "output_type": "execute_result"
    }
   ],
   "source": [
    "mtb_no = pd.read_sql_query(\"\"\"\n",
    "SELECT AVG(AnnualSales) as avg_sales, \n",
    "        AVG(AnnualRevenue) as avg_rev\n",
    "FROM AdventureWorks2019.Sales.vStoreWithDemographics\n",
    "WHERE Specialty = 'Mountain'\n",
    "and name not LIKE '%bike%' or name not LIKE '%cycle%';\n",
    "\"\"\", connection)\n",
    "\n",
    "mtb_no.head()"
   ]
  },
  {
   "cell_type": "code",
   "execution_count": 49,
   "id": "54d21767",
   "metadata": {},
   "outputs": [
    {
     "data": {
      "text/html": [
       "<div>\n",
       "<style scoped>\n",
       "    .dataframe tbody tr th:only-of-type {\n",
       "        vertical-align: middle;\n",
       "    }\n",
       "\n",
       "    .dataframe tbody tr th {\n",
       "        vertical-align: top;\n",
       "    }\n",
       "\n",
       "    .dataframe thead th {\n",
       "        text-align: right;\n",
       "    }\n",
       "</style>\n",
       "<table border=\"1\" class=\"dataframe\">\n",
       "  <thead>\n",
       "    <tr style=\"text-align: right;\">\n",
       "      <th></th>\n",
       "      <th>avg_sales</th>\n",
       "      <th>avg_rev</th>\n",
       "    </tr>\n",
       "  </thead>\n",
       "  <tbody>\n",
       "    <tr>\n",
       "      <th>0</th>\n",
       "      <td>1.501546e+06</td>\n",
       "      <td>150154.6391</td>\n",
       "    </tr>\n",
       "  </tbody>\n",
       "</table>\n",
       "</div>"
      ],
      "text/plain": [
       "      avg_sales      avg_rev\n",
       "0  1.501546e+06  150154.6391"
      ]
     },
     "execution_count": 49,
     "metadata": {},
     "output_type": "execute_result"
    }
   ],
   "source": [
    "rdb = pd.read_sql_query(\"\"\"\n",
    "SELECT AVG(AnnualSales) as avg_sales, \n",
    "        AVG(AnnualRevenue) as avg_rev\n",
    "FROM AdventureWorks2019.Sales.vStoreWithDemographics\n",
    "WHERE Specialty = 'Road'\n",
    "and name LIKE '%bike%' or name LIKE '%cycle%';\n",
    "\"\"\", connection)\n",
    "\n",
    "rdb.head()"
   ]
  },
  {
   "cell_type": "code",
   "execution_count": 50,
   "id": "a76cd12d",
   "metadata": {},
   "outputs": [
    {
     "data": {
      "text/html": [
       "<div>\n",
       "<style scoped>\n",
       "    .dataframe tbody tr th:only-of-type {\n",
       "        vertical-align: middle;\n",
       "    }\n",
       "\n",
       "    .dataframe tbody tr th {\n",
       "        vertical-align: top;\n",
       "    }\n",
       "\n",
       "    .dataframe thead th {\n",
       "        text-align: right;\n",
       "    }\n",
       "</style>\n",
       "<table border=\"1\" class=\"dataframe\">\n",
       "  <thead>\n",
       "    <tr style=\"text-align: right;\">\n",
       "      <th></th>\n",
       "      <th>avg_sales</th>\n",
       "      <th>avg_rev</th>\n",
       "    </tr>\n",
       "  </thead>\n",
       "  <tbody>\n",
       "    <tr>\n",
       "      <th>0</th>\n",
       "      <td>1.594603e+06</td>\n",
       "      <td>159460.3174</td>\n",
       "    </tr>\n",
       "  </tbody>\n",
       "</table>\n",
       "</div>"
      ],
      "text/plain": [
       "      avg_sales      avg_rev\n",
       "0  1.594603e+06  159460.3174"
      ]
     },
     "execution_count": 50,
     "metadata": {},
     "output_type": "execute_result"
    }
   ],
   "source": [
    "rd = pd.read_sql_query(\"\"\"\n",
    "SELECT AVG(AnnualSales) as avg_sales, \n",
    "        AVG(AnnualRevenue) as avg_rev\n",
    "FROM AdventureWorks2019.Sales.vStoreWithDemographics\n",
    "WHERE Specialty = 'Road'\n",
    "and name not LIKE '%bike%' or name not LIKE '%cycle%';\n",
    "\"\"\", connection)\n",
    "\n",
    "rd.head()"
   ]
  },
  {
   "cell_type": "code",
   "execution_count": 51,
   "id": "98649b08",
   "metadata": {},
   "outputs": [
    {
     "data": {
      "text/html": [
       "<div>\n",
       "<style scoped>\n",
       "    .dataframe tbody tr th:only-of-type {\n",
       "        vertical-align: middle;\n",
       "    }\n",
       "\n",
       "    .dataframe tbody tr th {\n",
       "        vertical-align: top;\n",
       "    }\n",
       "\n",
       "    .dataframe thead th {\n",
       "        text-align: right;\n",
       "    }\n",
       "</style>\n",
       "<table border=\"1\" class=\"dataframe\">\n",
       "  <thead>\n",
       "    <tr style=\"text-align: right;\">\n",
       "      <th></th>\n",
       "      <th>avg_sales</th>\n",
       "      <th>avg_rev</th>\n",
       "    </tr>\n",
       "  </thead>\n",
       "  <tbody>\n",
       "    <tr>\n",
       "      <th>0</th>\n",
       "      <td>1.511321e+06</td>\n",
       "      <td>151132.0754</td>\n",
       "    </tr>\n",
       "  </tbody>\n",
       "</table>\n",
       "</div>"
      ],
      "text/plain": [
       "      avg_sales      avg_rev\n",
       "0  1.511321e+06  151132.0754"
      ]
     },
     "execution_count": 51,
     "metadata": {},
     "output_type": "execute_result"
    }
   ],
   "source": [
    "t = pd.read_sql_query(\"\"\"\n",
    "SELECT AVG(AnnualSales) as avg_sales, \n",
    "        AVG(AnnualRevenue) as avg_rev\n",
    "FROM AdventureWorks2019.Sales.vStoreWithDemographics\n",
    "WHERE Specialty = 'Touring'\n",
    "and name LIKE '%bike%' or name LIKE '%cycle%';\n",
    "\"\"\", connection)\n",
    "\n",
    "t.head()"
   ]
  },
  {
   "cell_type": "code",
   "execution_count": 52,
   "id": "267de236",
   "metadata": {},
   "outputs": [
    {
     "data": {
      "text/html": [
       "<div>\n",
       "<style scoped>\n",
       "    .dataframe tbody tr th:only-of-type {\n",
       "        vertical-align: middle;\n",
       "    }\n",
       "\n",
       "    .dataframe tbody tr th {\n",
       "        vertical-align: top;\n",
       "    }\n",
       "\n",
       "    .dataframe thead th {\n",
       "        text-align: right;\n",
       "    }\n",
       "</style>\n",
       "<table border=\"1\" class=\"dataframe\">\n",
       "  <thead>\n",
       "    <tr style=\"text-align: right;\">\n",
       "      <th></th>\n",
       "      <th>avg_sales</th>\n",
       "      <th>avg_rev</th>\n",
       "    </tr>\n",
       "  </thead>\n",
       "  <tbody>\n",
       "    <tr>\n",
       "      <th>0</th>\n",
       "      <td>1.591558e+06</td>\n",
       "      <td>159155.8441</td>\n",
       "    </tr>\n",
       "  </tbody>\n",
       "</table>\n",
       "</div>"
      ],
      "text/plain": [
       "      avg_sales      avg_rev\n",
       "0  1.591558e+06  159155.8441"
      ]
     },
     "execution_count": 52,
     "metadata": {},
     "output_type": "execute_result"
    }
   ],
   "source": [
    "tb = pd.read_sql_query(\"\"\"\n",
    "SELECT AVG(AnnualSales) as avg_sales, \n",
    "        AVG(AnnualRevenue) as avg_rev\n",
    "FROM AdventureWorks2019.Sales.vStoreWithDemographics\n",
    "WHERE Specialty = 'Touring'\n",
    "and name not LIKE '%bike%' or name not LIKE '%cycle%';\n",
    "\"\"\", connection)\n",
    "\n",
    "tb.head()"
   ]
  },
  {
   "cell_type": "code",
   "execution_count": null,
   "id": "725b91de",
   "metadata": {},
   "outputs": [],
   "source": []
  },
  {
   "cell_type": "code",
   "execution_count": null,
   "id": "0e4f3247",
   "metadata": {},
   "outputs": [],
   "source": []
  }
 ],
 "metadata": {
  "kernelspec": {
   "display_name": "Python 3",
   "language": "python",
   "name": "python3"
  },
  "language_info": {
   "codemirror_mode": {
    "name": "ipython",
    "version": 3
   },
   "file_extension": ".py",
   "mimetype": "text/x-python",
   "name": "python",
   "nbconvert_exporter": "python",
   "pygments_lexer": "ipython3",
   "version": "3.8.8"
  }
 },
 "nbformat": 4,
 "nbformat_minor": 5
}
